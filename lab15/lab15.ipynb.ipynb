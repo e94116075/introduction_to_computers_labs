{
  "cells": [
    {
      "cell_type": "markdown",
      "metadata": {
        "id": "4sVfxRF2UC2H"
      },
      "source": [
        "# 下載 MNIST 資料\n",
        "---\n",
        "首先，匯入 keras 和相關模組。"
      ]
    },
    {
      "cell_type": "code",
      "execution_count": 127,
      "metadata": {
        "id": "r43pJCz-n8vP"
      },
      "outputs": [],
      "source": [
        "# 匯入 numpy 和 pandas 模組，numpy 是 python 的程式庫，支援維度陣列與矩陣運算。\n",
        "# pandas 則提供檔案存取和數據操縱。\n",
        "import numpy as np\n",
        "import pandas as pd\n",
        "# 從 keras.utils 匯入 to_categroical，因為後續要將 label 標籤 轉換成 one-hot encoding。\n",
        "from tensorflow.keras.utils import to_categorical\n",
        "# 設定 seed 可以讓每次產生隨機值時，都會有相同的輸出。(若使用GPU，則無法每次皆相同)\n",
        "# 須改為學號末四碼\n",
        "seed = 6075\n",
        "np.random.seed(seed)"
      ]
    },
    {
      "cell_type": "markdown",
      "metadata": {
        "id": "hgn5zsNAYY6A"
      },
      "source": [
        "Keras 中已經提供許多機器學習常用的數據集，包括波士頓房地產數據、CIFAR10、和這次範例要使用的手寫數據集。所以先從 keras 匯入 MNIST。\n",
        "\n",
        "第一次執行 mnist.load_data() ，程式會檢查目錄是否已經有檔案，如果沒有就會自動下載，所以第一次可能都會比較久。之後再次執行時不用再次下載就會快速很多。\n"
      ]
    },
    {
      "cell_type": "code",
      "execution_count": 128,
      "metadata": {
        "id": "vlDNq1x_n8vS"
      },
      "outputs": [],
      "source": [
        "from tensorflow.keras.datasets import mnist,cifar10\n",
        "(X_train_image, y_train_label),\\\n",
        "    (X_test_image, y_test_label) = mnist.load_data()"
      ]
    },
    {
      "cell_type": "markdown",
      "source": [],
      "metadata": {
        "id": "4IMj1SGLNofh"
      }
    },
    {
      "cell_type": "markdown",
      "metadata": {
        "id": "4GZl5_1ndtWZ"
      },
      "source": [
        "先來看看 MNIST 資料數據集的筆數，還有訓練資料的組成。\n",
        "\n",
        "可以看到 train 訓練資料有 60000 筆，test 測試資料有 10000 筆。\n",
        "\n",
        "訓練資料是由 images 和 labels 所組成共 60000 筆， images 是單色的數字影像，labels 是數字影像對應的真實值。"
      ]
    },
    {
      "cell_type": "code",
      "execution_count": 129,
      "metadata": {
        "colab": {
          "base_uri": "https://localhost:8080/"
        },
        "id": "FsuxbJdEn8vS",
        "outputId": "8abaa312-efdc-49de-9b74-7ac8da300231"
      },
      "outputs": [
        {
          "output_type": "stream",
          "name": "stdout",
          "text": [
            "train data :  60000\n",
            "test data :  10000\n"
          ]
        }
      ],
      "source": [
        "print('train data : ', len(X_train_image))\n",
        "print('test data : ', len(X_test_image))"
      ]
    },
    {
      "cell_type": "code",
      "execution_count": 130,
      "metadata": {
        "colab": {
          "base_uri": "https://localhost:8080/"
        },
        "id": "sxNW-yfUn8vT",
        "outputId": "968292b6-6583-4776-bb4b-d3b6363b3f27"
      },
      "outputs": [
        {
          "output_type": "stream",
          "name": "stdout",
          "text": [
            "x_train_image :  (60000, 28, 28)\n",
            "y_train_label :  (60000,)\n"
          ]
        }
      ],
      "source": [
        "print('x_train_image : ', X_train_image.shape)\n",
        "print('y_train_label : ', y_train_label.shape)"
      ]
    },
    {
      "cell_type": "markdown",
      "metadata": {
        "id": "p1UqvEszhGu7"
      },
      "source": [
        "# 建立 plot_image 函式來顯示數字影像\n",
        "---\n",
        "來看看剛剛匯入的手寫數字圖像。\n",
        "\n"
      ]
    },
    {
      "cell_type": "code",
      "execution_count": 131,
      "metadata": {
        "id": "aldFBwdNn8vU"
      },
      "outputs": [],
      "source": [
        "import matplotlib.pyplot as plt\n",
        "def plot_image(image):\n",
        "    # 設定圖形顯示大小\n",
        "    fig = plt.gcf()\n",
        "    fig.set_size_inches(2, 2)\n",
        "    # 使用 plt.imshow() 顯示圖像，傳入參數是 28 X 28 的圖形，\n",
        "    # cmap 參數設定為 binary 以黑白灰階顯示\n",
        "    plt.imshow(image, cmap = 'binary')\n",
        "    # 開始繪圖\n",
        "    plt.show()"
      ]
    },
    {
      "cell_type": "markdown",
      "metadata": {
        "id": "-5OMZLgiljix"
      },
      "source": [
        "傳入訓練集第一筆資料，來看看他的影像。"
      ]
    },
    {
      "cell_type": "code",
      "execution_count": 132,
      "metadata": {
        "colab": {
          "base_uri": "https://localhost:8080/",
          "height": 159
        },
        "id": "qrrZ-gcfn8vU",
        "outputId": "b1fc29a9-f7b8-493d-ec4b-8255cf900842"
      },
      "outputs": [
        {
          "output_type": "display_data",
          "data": {
            "text/plain": [
              "<Figure size 144x144 with 1 Axes>"
            ],
            "image/png": "[encoded data removed]"
          },
          "metadata": {
            "needs_background": "light"
          }
        }
      ],
      "source": [
        "plot_image(X_train_image[0])"
      ]
    },
    {
      "cell_type": "markdown",
      "metadata": {
        "id": "R43L94LSl2IK"
      },
      "source": [
        "看看第一筆資料的 label"
      ]
    },
    {
      "cell_type": "code",
      "execution_count": 133,
      "metadata": {
        "colab": {
          "base_uri": "https://localhost:8080/"
        },
        "id": "CctZ26v_n8vV",
        "outputId": "7634021c-7bb6-43cc-c2d0-03193e6bc94c"
      },
      "outputs": [
        {
          "output_type": "execute_result",
          "data": {
            "text/plain": [
              "5"
            ]
          },
          "metadata": {},
          "execution_count": 133
        }
      ],
      "source": [
        "y_train_label[0]"
      ]
    },
    {
      "cell_type": "markdown",
      "metadata": {
        "id": "oXPaFNNjounB"
      },
      "source": [
        "# 查看多筆資料 images 與 labels\n",
        "---\n",
        "定義 plot_images_labels_prediction() 函式，傳入以下參數：images(數字影像)、labels(對應數字真實值)、prediction(預測結果)、idx(開始顯示影像的index)、num(要顯示的資料筆數，預設是10，不超過25)\n"
      ]
    },
    {
      "cell_type": "code",
      "execution_count": 134,
      "metadata": {
        "id": "wVDmYBSWn8vV"
      },
      "outputs": [],
      "source": [
        "def plot_images_labels_prediction(images, labels, prediction,\n",
        "                                    idx, num = 10):\n",
        "    # 設定顯示圖形大小\n",
        "    fig = plt.gcf()\n",
        "    fig.set_size_inches(12, 14)\n",
        "    # 如果顯示筆數大於25 則將他設定為25 以避免錯誤\n",
        "    if num > 25: num = 25\n",
        "    # 使用 for 迴圈依序畫出 num 個數字圖形\n",
        "    for i in range(0, num):\n",
        "        ax = plt.subplot(5, 5, 1+i) # 建立 5 X 5 的 subgraph 子圖形\n",
        "        ax.imshow(images[idx], cmap = 'binary') # 畫出 subgraph 子圖形\n",
        "        title = \"label=\" + str(labels[idx]) # 設定子圖形 title 顯示標籤欄位\n",
        "        if len(prediction) > 0: # 如果 prediction 有傳入值\n",
        "            title += \",predict=\" + str(prediction[idx]) # 將 prediction 加入 title\n",
        "        ax.set_title(title, fontsize = 10) # 設定標題大小\n",
        "        ax.set_xticks([]); ax.set_yticks([]) # 設定不顯示刻度\n",
        "        idx += 1 # 讀取下一筆\n",
        "    plt.show() # 開始畫圖"
      ]
    },
    {
      "cell_type": "markdown",
      "metadata": {
        "id": "epHsMhfHzBAT"
      },
      "source": [
        "顯示訓練資料前 10 筆資料。不過目前還沒有預測結果所以傳入空 list ，由第 0 筆開始顯示至第 9 筆。"
      ]
    },
    {
      "cell_type": "code",
      "execution_count": 135,
      "metadata": {
        "colab": {
          "base_uri": "https://localhost:8080/",
          "height": 321
        },
        "id": "y-iLff1vn8vW",
        "outputId": "c95f93d4-c6a1-4261-e2ad-739870f2ec4d"
      },
      "outputs": [
        {
          "output_type": "display_data",
          "data": {
            "text/plain": [
              "<Figure size 864x1008 with 10 Axes>"
            ],
            "image/png": "[encoded data removed]"
          },
          "metadata": {}
        }
      ],
      "source": [
        "plot_images_labels_prediction(X_train_image, y_train_label, [], 0, 10)"
      ]
    },
    {
      "cell_type": "markdown",
      "metadata": {
        "id": "Ae4v3BOYzfz0"
      },
      "source": [
        "查看 test 測試資料筆數，可以看到共10000筆資料。"
      ]
    },
    {
      "cell_type": "code",
      "execution_count": 136,
      "metadata": {
        "colab": {
          "base_uri": "https://localhost:8080/"
        },
        "id": "TKTXr0uin8vW",
        "outputId": "e64297c1-f54f-4f03-e73a-98c8336a9b49"
      },
      "outputs": [
        {
          "output_type": "stream",
          "name": "stdout",
          "text": [
            "x_test_image :  (10000, 28, 28)\n",
            "y_test_label :  (10000,)\n"
          ]
        }
      ],
      "source": [
        "print('x_test_image : ', X_test_image.shape)\n",
        "print('y_test_label : ', y_test_label.shape)"
      ]
    },
    {
      "cell_type": "markdown",
      "metadata": {
        "id": "KteBBFUTzr3s"
      },
      "source": [
        "顯示測試資料前 10 筆資料圖形。"
      ]
    },
    {
      "cell_type": "code",
      "execution_count": 137,
      "metadata": {
        "colab": {
          "base_uri": "https://localhost:8080/",
          "height": 321
        },
        "id": "ISt-J68Zn8vX",
        "outputId": "fe52f6a6-05b8-4472-cdea-56b29cad26e8"
      },
      "outputs": [
        {
          "output_type": "display_data",
          "data": {
            "text/plain": [
              "<Figure size 864x1008 with 10 Axes>"
            ],
            "image/png": "[encoded data removed]"
          },
          "metadata": {}
        }
      ],
      "source": [
        "plot_images_labels_prediction(X_test_image, y_test_label, [], 0, 10)"
      ]
    },
    {
      "cell_type": "markdown",
      "metadata": {
        "id": "HRNmke3J1E1t"
      },
      "source": [
        "# feature(數字影像的特徵值)資料預處理\n"
      ]
    },
    {
      "cell_type": "code",
      "execution_count": 138,
      "metadata": {
        "id": "ms3N-1iUn8vX"
      },
      "outputs": [],
      "source": [
        "X_Train = X_train_image.astype('float32')\n",
        "X_Test = X_test_image.astype('float32')"
      ]
    },
    {
      "cell_type": "markdown",
      "metadata": {
        "id": "AdqLK9G12DbJ"
      },
      "source": [
        "查看一下每一個數字影像都變成 784 個 float 數字。"
      ]
    },
    {
      "cell_type": "code",
      "execution_count": 139,
      "metadata": {
        "colab": {
          "base_uri": "https://localhost:8080/"
        },
        "id": "uBbTQ0gWn8vX",
        "outputId": "d0246ed3-7ca6-40a5-c59e-de58dcabf14c"
      },
      "outputs": [
        {
          "output_type": "stream",
          "name": "stdout",
          "text": [
            "x_train :  (60000, 28, 28)\n",
            "x_test :  (10000, 28, 28)\n"
          ]
        }
      ],
      "source": [
        "print('x_train : ', X_Train.shape)\n",
        "print('x_test : ', X_Test.shape)"
      ]
    },
    {
      "cell_type": "markdown",
      "metadata": {
        "id": "ivdFFYiD2WqY"
      },
      "source": [
        "將 image 的數字標準化。\n",
        "\n",
        "因為圖像的數字是介於 0 到 255，所以最簡單的方法就是除以 255。"
      ]
    },
    {
      "cell_type": "code",
      "execution_count": 140,
      "metadata": {
        "id": "NDMKuvtIn8vY"
      },
      "outputs": [],
      "source": [
        "X_Train_normalize = X_Train / 255\n",
        "X_Test_normalize = X_Test / 255"
      ]
    },
    {
      "cell_type": "markdown",
      "metadata": {
        "id": "CDWfCYgu29br"
      },
      "source": [
        "# labels(數字影像對應真實值)資料預處理\n",
        "---\n",
        "先來查看一下訓練資料 label 標籤欄位前五筆資料，可以看到這是 0 ~ 9 的單一數字。"
      ]
    },
    {
      "cell_type": "code",
      "execution_count": 141,
      "metadata": {
        "colab": {
          "base_uri": "https://localhost:8080/"
        },
        "id": "_OPr_LFYn8vY",
        "outputId": "4938682b-1f80-4166-e170-4a9a862b6ce6"
      },
      "outputs": [
        {
          "output_type": "execute_result",
          "data": {
            "text/plain": [
              "array([5, 0, 4, 1, 9], dtype=uint8)"
            ]
          },
          "metadata": {},
          "execution_count": 141
        }
      ],
      "source": [
        "y_train_label[:5]"
      ]
    },
    {
      "cell_type": "markdown",
      "metadata": {
        "id": "0HVpRwTMlWTo"
      },
      "source": [
        "使用我們開頭匯入的 to_categorical函式，傳入 label 標籤，將他們轉換成 one-hot encoding。"
      ]
    },
    {
      "cell_type": "code",
      "execution_count": 142,
      "metadata": {
        "id": "Am_djE9Cn8vY"
      },
      "outputs": [],
      "source": [
        "y_TrainOneHot = to_categorical(y_train_label)\n",
        "y_TestOneHot = to_categorical(y_test_label)"
      ]
    },
    {
      "cell_type": "markdown",
      "metadata": {
        "id": "IdhtS_VDl6kg"
      },
      "source": [
        "查看轉換過後的結果。"
      ]
    },
    {
      "cell_type": "code",
      "execution_count": 143,
      "metadata": {
        "colab": {
          "base_uri": "https://localhost:8080/"
        },
        "id": "ehbvMVISn8vZ",
        "outputId": "b29b27f8-a09f-4215-950e-3650d118332b"
      },
      "outputs": [
        {
          "output_type": "execute_result",
          "data": {
            "text/plain": [
              "array([[0., 0., 0., 0., 0., 1., 0., 0., 0., 0.],\n",
              "       [1., 0., 0., 0., 0., 0., 0., 0., 0., 0.],\n",
              "       [0., 0., 0., 0., 1., 0., 0., 0., 0., 0.],\n",
              "       [0., 1., 0., 0., 0., 0., 0., 0., 0., 0.],\n",
              "       [0., 0., 0., 0., 0., 0., 0., 0., 0., 1.]], dtype=float32)"
            ]
          },
          "metadata": {},
          "execution_count": 143
        }
      ],
      "source": [
        "y_TrainOneHot[:5]"
      ]
    },
    {
      "cell_type": "markdown",
      "metadata": {
        "id": "VZ24AXlCmC2g"
      },
      "source": [
        "# 建立 MLP 模型\n",
        "---\n",
        "接下來建立我們的多層感知器模型，輸入層共有 (28*28) 個神經元，隱藏層 32 個神經元，最後輸出層共有 10 個神經元。\n",
        "\n",
        "首先先匯入所需要的模組。"
      ]
    },
    {
      "cell_type": "code",
      "execution_count": 144,
      "metadata": {
        "id": "6t3RUk-wn8vZ"
      },
      "outputs": [],
      "source": [
        "from tensorflow.keras import layers, metrics\n",
        "from tensorflow.keras.layers import Dense,InputLayer,Flatten\n",
        "from tensorflow.keras import models\n",
        "import tensorflow as tf\n",
        "tf.random.set_seed(seed)"
      ]
    },
    {
      "cell_type": "markdown",
      "metadata": {
        "id": "_KqO-SLQm7Dk"
      },
      "source": [
        "建立 Sequential 一個線性堆疊模型，後續只要使用 model.add() 將個神經網路層依序加入模型即可。"
      ]
    },
    {
      "cell_type": "code",
      "execution_count": 145,
      "metadata": {
        "id": "RJKfB6H8n8vZ"
      },
      "outputs": [],
      "source": [
        "model = models.Sequential()"
      ]
    },
    {
      "cell_type": "markdown",
      "source": [
        "建立輸入層\n",
        "1.   設定輸入層神經元 維度為 (28,28,1)。\n",
        "2.   把(28,28,1)攤平，變成一維"
      ],
      "metadata": {
        "id": "3PvA6D4BrQmP"
      }
    },
    {
      "cell_type": "code",
      "source": [
        "model.add(InputLayer(input_shape=(28,28,1)))\n",
        "model.add(Flatten())"
      ],
      "metadata": {
        "id": "MlQx3w1krP2X"
      },
      "execution_count": 146,
      "outputs": []
    },
    {
      "cell_type": "markdown",
      "metadata": {
        "id": "uvAqC0q3nZdO"
      },
      "source": [
        "建立隱藏層。\n",
        "1.   定義隱藏層神經元 32 個。\n",
        "2.   設定激活函數為 sigmoid\n",
        "。\n",
        "\n"
      ]
    },
    {
      "cell_type": "code",
      "execution_count": 147,
      "metadata": {
        "id": "2bCNDEF7n8vZ"
      },
      "outputs": [],
      "source": [
        "model.add(Dense(650,  kernel_initializer = 'zeros',activation = 'sigmoid'))\n",
        "# elu exponential gelu hard_sigmoid linear relu selu sigmoid softmax softplus softsign swish tanh"
      ]
    },
    {
      "cell_type": "markdown",
      "metadata": {
        "id": "DU9GQ-0VoRaS"
      },
      "source": [
        "建立輸出層總共 10 個神經元，對應要分類的數字類別 0 ~ 9 。設定激活函數為 softmax ，這樣每一個神經元的輸出結果可視為預測每一個數字的機率。"
      ]
    },
    {
      "cell_type": "code",
      "execution_count": 148,
      "metadata": {
        "id": "4cgofZ9Yn8va"
      },
      "outputs": [],
      "source": [
        "model.add(Dense(10, kernel_initializer = 'normal', activation = 'softmax'))"
      ]
    },
    {
      "cell_type": "markdown",
      "metadata": {
        "id": "I5tigyhWo3eg"
      },
      "source": [
        "來看看我們建好的模型的摘要。"
      ]
    },
    {
      "cell_type": "code",
      "execution_count": 149,
      "metadata": {
        "colab": {
          "base_uri": "https://localhost:8080/"
        },
        "id": "yw-ifJ58n8va",
        "outputId": "c9e18162-233e-43dc-c1fb-af2cddcd3ed3"
      },
      "outputs": [
        {
          "output_type": "stream",
          "name": "stdout",
          "text": [
            "Model: \"sequential_4\"\n",
            "_________________________________________________________________\n",
            " Layer (type)                Output Shape              Param #   \n",
            "=================================================================\n",
            " flatten_4 (Flatten)         (None, 784)               0         \n",
            "                                                                 \n",
            " dense_8 (Dense)             (None, 650)               510250    \n",
            "                                                                 \n",
            " dense_9 (Dense)             (None, 10)                6510      \n",
            "                                                                 \n",
            "=================================================================\n",
            "Total params: 516,760\n",
            "Trainable params: 516,760\n",
            "Non-trainable params: 0\n",
            "_________________________________________________________________\n",
            "None\n"
          ]
        }
      ],
      "source": [
        "print(model.summary())"
      ]
    },
    {
      "cell_type": "markdown",
      "metadata": {
        "id": "mR__ZeJ8pS0Y"
      },
      "source": [
        "# 進行訓練\n",
        "---\n",
        "首先使用 compile ，對訓練模型進行設定。相關參數有：\n",
        "1.   loss : 設定損失函數，這邊使用 BinaryCrossentropy。另外也還有很多不同的函數，可以到 keras 官網查詢，不同的模型和資料都有他們最適合的函數。\n",
        "2.   optimizer : 設定優化方法，這邊使用 sgd 方法。同樣 keras 也提供很多種優化方法。\n",
        "1.   metrics : 設定評估模型的方式是 accuracy 準確率。"
      ]
    },
    {
      "cell_type": "code",
      "execution_count": 150,
      "metadata": {
        "id": "CNMv_62tn8va"
      },
      "outputs": [],
      "source": [
        "loss_function = 'CategoricalCrossentropy' # CategoricalHinge BinaryCrossentropy BinaryFocalCrossentropy CategoricalCrossentropy \n",
        "optimize_function = 'Adam' # Adadelta , Adagrad ,Adam ,Adamax ,FTRL ,Nadam ,RMSprop ,sgd\n",
        "model.compile(loss = loss_function, optimizer = optimize_function,metrics = ['accuracy'])"
      ]
    },
    {
      "cell_type": "markdown",
      "metadata": {
        "id": "jeXXrNn_rCxB"
      },
      "source": [
        "開始訓練，過程都會儲存在 train_history 變數，其中的相關參數：\n",
        "1.   設定 validation_split = 0.2 ，將訓練資料 80% 作為訓練，20% 作為驗證資料。\n",
        "1.   設定 epochs 執行 10 次訓練週期。每一批次 batch_size 有 200 筆資料。\n",
        "2.   verbose = 2，顯示訓練過程。"
      ]
    },
    {
      "cell_type": "code",
      "execution_count": 151,
      "metadata": {
        "colab": {
          "base_uri": "https://localhost:8080/"
        },
        "id": "A9mb8zN3n8va",
        "outputId": "a985d417-1d37-4981-d2c1-61adacbe986b"
      },
      "outputs": [
        {
          "output_type": "stream",
          "name": "stdout",
          "text": [
            "Epoch 1/20\n",
            "480/480 - 2s - loss: 0.4569 - accuracy: 0.8761 - val_loss: 0.2713 - val_accuracy: 0.9221 - 2s/epoch - 4ms/step\n",
            "Epoch 2/20\n",
            "480/480 - 1s - loss: 0.2565 - accuracy: 0.9257 - val_loss: 0.2142 - val_accuracy: 0.9393 - 1s/epoch - 3ms/step\n",
            "Epoch 3/20\n",
            "480/480 - 1s - loss: 0.2012 - accuracy: 0.9409 - val_loss: 0.1807 - val_accuracy: 0.9476 - 1s/epoch - 3ms/step\n",
            "Epoch 4/20\n",
            "480/480 - 1s - loss: 0.1607 - accuracy: 0.9526 - val_loss: 0.1543 - val_accuracy: 0.9555 - 1s/epoch - 3ms/step\n",
            "Epoch 5/20\n",
            "480/480 - 1s - loss: 0.1301 - accuracy: 0.9623 - val_loss: 0.1315 - val_accuracy: 0.9620 - 1s/epoch - 3ms/step\n",
            "Epoch 6/20\n",
            "480/480 - 1s - loss: 0.1076 - accuracy: 0.9686 - val_loss: 0.1232 - val_accuracy: 0.9638 - 1s/epoch - 3ms/step\n",
            "Epoch 7/20\n",
            "480/480 - 1s - loss: 0.0893 - accuracy: 0.9748 - val_loss: 0.1055 - val_accuracy: 0.9693 - 1s/epoch - 3ms/step\n",
            "Epoch 8/20\n",
            "480/480 - 1s - loss: 0.0749 - accuracy: 0.9781 - val_loss: 0.0983 - val_accuracy: 0.9700 - 1s/epoch - 3ms/step\n",
            "Epoch 9/20\n",
            "480/480 - 1s - loss: 0.0623 - accuracy: 0.9823 - val_loss: 0.0928 - val_accuracy: 0.9718 - 1s/epoch - 3ms/step\n",
            "Epoch 10/20\n",
            "480/480 - 1s - loss: 0.0516 - accuracy: 0.9852 - val_loss: 0.0891 - val_accuracy: 0.9736 - 1s/epoch - 3ms/step\n",
            "Epoch 11/20\n",
            "480/480 - 1s - loss: 0.0436 - accuracy: 0.9881 - val_loss: 0.0870 - val_accuracy: 0.9749 - 1s/epoch - 3ms/step\n",
            "Epoch 12/20\n",
            "480/480 - 1s - loss: 0.0358 - accuracy: 0.9910 - val_loss: 0.0836 - val_accuracy: 0.9740 - 1s/epoch - 3ms/step\n",
            "Epoch 13/20\n",
            "480/480 - 1s - loss: 0.0304 - accuracy: 0.9922 - val_loss: 0.0795 - val_accuracy: 0.9765 - 1s/epoch - 3ms/step\n",
            "Epoch 14/20\n",
            "480/480 - 1s - loss: 0.0252 - accuracy: 0.9942 - val_loss: 0.0751 - val_accuracy: 0.9768 - 1s/epoch - 3ms/step\n",
            "Epoch 15/20\n",
            "480/480 - 1s - loss: 0.0207 - accuracy: 0.9957 - val_loss: 0.0781 - val_accuracy: 0.9768 - 1s/epoch - 3ms/step\n",
            "Epoch 16/20\n",
            "480/480 - 1s - loss: 0.0170 - accuracy: 0.9967 - val_loss: 0.0760 - val_accuracy: 0.9765 - 1s/epoch - 3ms/step\n",
            "Epoch 17/20\n",
            "480/480 - 1s - loss: 0.0136 - accuracy: 0.9975 - val_loss: 0.0743 - val_accuracy: 0.9783 - 1s/epoch - 3ms/step\n",
            "Epoch 18/20\n",
            "480/480 - 1s - loss: 0.0112 - accuracy: 0.9985 - val_loss: 0.0778 - val_accuracy: 0.9761 - 1s/epoch - 3ms/step\n",
            "Epoch 19/20\n",
            "480/480 - 1s - loss: 0.0092 - accuracy: 0.9987 - val_loss: 0.0764 - val_accuracy: 0.9770 - 1s/epoch - 3ms/step\n",
            "Epoch 20/20\n",
            "480/480 - 1s - loss: 0.0074 - accuracy: 0.9991 - val_loss: 0.0774 - val_accuracy: 0.9761 - 1s/epoch - 3ms/step\n"
          ]
        }
      ],
      "source": [
        "train_history = model.fit(x = X_Train_normalize, y = y_TrainOneHot,\n",
        "                            validation_split = 0.2, epochs = 20, batch_size = 100,\n",
        "                            verbose = 2)"
      ]
    },
    {
      "cell_type": "markdown",
      "metadata": {
        "id": "y2UhJPyc39PF"
      },
      "source": [
        "建立函式顯示訓練過程，會將每一個訓練週期的 accuracy 和 loss 以圖表顯示出來。"
      ]
    },
    {
      "cell_type": "code",
      "execution_count": 152,
      "metadata": {
        "id": "oQgpTAEfn8vb"
      },
      "outputs": [],
      "source": [
        "def show_train_history(train_history, train, validation):\n",
        "    plt.plot(train_history.history[train])\n",
        "    plt.plot(train_history.history[validation])\n",
        "    plt.title('Train History')\n",
        "    plt.ylabel(train)\n",
        "    plt.xlabel('Epoch')\n",
        "    plt.legend(['train', 'validation'], loc = 'upper left')\n",
        "    plt.show()"
      ]
    },
    {
      "cell_type": "code",
      "execution_count": 153,
      "metadata": {
        "id": "Gd1cWRrKn8vb",
        "colab": {
          "base_uri": "https://localhost:8080/",
          "height": 295
        },
        "outputId": "f2f2465f-1f1c-4c45-b87d-fef48f7e35e5"
      },
      "outputs": [
        {
          "output_type": "display_data",
          "data": {
            "text/plain": [
              "<Figure size 432x288 with 1 Axes>"
            ],
            "image/png": "[encoded data removed]"
          },
          "metadata": {
            "needs_background": "light"
          }
        }
      ],
      "source": [
        "show_train_history(train_history, 'accuracy', 'val_accuracy')"
      ]
    },
    {
      "cell_type": "code",
      "execution_count": 154,
      "metadata": {
        "id": "BW7YX87on8vb",
        "colab": {
          "base_uri": "https://localhost:8080/",
          "height": 295
        },
        "outputId": "74f19bbe-cc3a-4c24-cb16-7a88e08831bf"
      },
      "outputs": [
        {
          "output_type": "display_data",
          "data": {
            "text/plain": [
              "<Figure size 432x288 with 1 Axes>"
            ],
            "image/png": "[encoded data removed]"
          },
          "metadata": {
            "needs_background": "light"
          }
        }
      ],
      "source": [
        "show_train_history(train_history, 'loss', 'val_loss')"
      ]
    },
    {
      "cell_type": "markdown",
      "metadata": {
        "id": "fhHrcEWo4iJD"
      },
      "source": [
        "# 以測試資料評估模型準確率\n",
        "---\n"
      ]
    },
    {
      "cell_type": "code",
      "execution_count": 155,
      "metadata": {
        "id": "FpMOSWR2n8vc",
        "colab": {
          "base_uri": "https://localhost:8080/"
        },
        "outputId": "6d16868c-6129-40d8-c26b-d3836da1d171"
      },
      "outputs": [
        {
          "output_type": "stream",
          "name": "stdout",
          "text": [
            "313/313 [==============================] - 1s 3ms/step - loss: 0.0678 - accuracy: 0.9807\n",
            "\n",
            "accuracy =  0.9807000160217285\n"
          ]
        }
      ],
      "source": [
        "scores = model.evaluate(X_Test_normalize, y_TestOneHot)\n",
        "print()\n",
        "print('accuracy = ', scores[1])"
      ]
    },
    {
      "cell_type": "code",
      "source": [
        "from PIL import Image\n",
        "import numpy as np\n",
        "import cv2\n",
        "img=plt.imread('未命名.png')\n",
        "gray=np.mean(img,axis=2)\n",
        "pred_img=np.expand_dims(gray,axis=0)\n",
        "plot_image(img)\n",
        "# pred_img = cv2.resize(pred_img,(28,28))                          \n",
        "#     #转换np数组格式\n",
        "# pred_img = np.array(pred_img)   \n",
        "#     #重新reshape图片                      \n",
        "# pred_img = pred_img.reshape(-1,28,28,1)\n",
        "#     #查看reshape后的图片shape                       \n",
        "print(pred_img.shape)\n",
        "\n",
        "\n"
      ],
      "metadata": {
        "colab": {
          "base_uri": "https://localhost:8080/",
          "height": 176
        },
        "id": "rYn79NgdjUTw",
        "outputId": "902faf02-664f-4dda-c5e9-c1a6a7b97c24"
      },
      "execution_count": 156,
      "outputs": [
        {
          "output_type": "display_data",
          "data": {
            "text/plain": [
              "<Figure size 144x144 with 1 Axes>"
            ],
            "image/png": "[encoded data removed]"
          },
          "metadata": {
            "needs_background": "light"
          }
        },
        {
          "output_type": "stream",
          "name": "stdout",
          "text": [
            "(1, 28, 28)\n"
          ]
        }
      ]
    },
    {
      "cell_type": "code",
      "source": [
        "# im=np.array(pred_img)\n",
        "# im=255-im\n",
        "# im=im/255.0\n",
        "# im2=im\n",
        "# im=im.reshape((28,28,1))\n",
        "# im=np.expand_dims(im,0)\n",
        "\n",
        "# im.shape"
      ],
      "metadata": {
        "id": "hnl0fAp2kclQ"
      },
      "execution_count": 157,
      "outputs": []
    },
    {
      "cell_type": "markdown",
      "metadata": {
        "id": "80wdyNJY40PA"
      },
      "source": [
        "執行預測，將結果存到 prediction 中。"
      ]
    },
    {
      "cell_type": "code",
      "execution_count": 165,
      "metadata": {
        "id": "PjVUnCEnn8vc",
        "colab": {
          "base_uri": "https://localhost:8080/"
        },
        "outputId": "dbf01746-bd66-4c35-a15a-5e9717f59da0"
      },
      "outputs": [
        {
          "output_type": "stream",
          "name": "stdout",
          "text": [
            "1/1 [==============================] - 0s 14ms/step\n",
            "5\n"
          ]
        }
      ],
      "source": [
        "prediction = np.argmax(model.predict(pred_img),axis=-1)\n",
        "print(prediction[0])"
      ]
    },
    {
      "cell_type": "code",
      "execution_count": 166,
      "metadata": {
        "id": "h9SWS2kqn8vc",
        "colab": {
          "base_uri": "https://localhost:8080/"
        },
        "outputId": "ac2bc003-31f7-4604-ab19-8c197df48f56"
      },
      "outputs": [
        {
          "output_type": "execute_result",
          "data": {
            "text/plain": [
              "5"
            ]
          },
          "metadata": {},
          "execution_count": 166
        }
      ],
      "source": [
        "prediction[0]"
      ]
    },
    {
      "cell_type": "code",
      "source": [
        "def plot_images_labels_prediction1(images,prediction):\n",
        "                                    \n",
        "    # 設定顯示圖形大小\n",
        "    fig = plt.gcf()\n",
        "    fig.set_size_inches(4, 4)\n",
        "    plt.title('predict:'+str(prediction))\n",
        "    plt.imshow(images, cmap = 'binary')\n",
        "   \n",
        "    plt.show() # 開始畫圖"
      ],
      "metadata": {
        "id": "7apLrOAQy3bW"
      },
      "execution_count": 187,
      "outputs": []
    },
    {
      "cell_type": "markdown",
      "metadata": {
        "id": "lpO7D8kU5Cc_"
      },
      "source": [
        "顯示 10 筆預測結果。"
      ]
    },
    {
      "cell_type": "code",
      "execution_count": 189,
      "metadata": {
        "id": "3P_gdFyBn8vc",
        "scrolled": false,
        "colab": {
          "base_uri": "https://localhost:8080/",
          "height": 281
        },
        "outputId": "5b256268-88e6-4a4f-8436-10e76cb648a1"
      },
      "outputs": [
        {
          "output_type": "display_data",
          "data": {
            "text/plain": [
              "<Figure size 288x288 with 1 Axes>"
            ],
            "image/png": "[encoded data removed]"
          },
          "metadata": {
            "needs_background": "light"
          }
        }
      ],
      "source": [
        "plot_images_labels_prediction1(img,prediction[0])"
      ]
    },
    {
      "cell_type": "code",
      "source": [
        "y_test_label = y_test_label.reshape(10000)"
      ],
      "metadata": {
        "id": "bwAxlDHhxG-D"
      },
      "execution_count": 161,
      "outputs": []
    },
    {
      "cell_type": "markdown",
      "metadata": {
        "id": "wPnqNhGnvgqS"
      },
      "source": [
        "混淆矩陣 "
      ]
    },
    {
      "cell_type": "code",
      "execution_count": 170,
      "metadata": {
        "id": "MnGfKgExvgqS",
        "colab": {
          "base_uri": "https://localhost:8080/",
          "height": 330
        },
        "outputId": "022f4aeb-267e-4fb3-dd9d-dc97c54e1328"
      },
      "outputs": [
        {
          "output_type": "error",
          "ename": "ValueError",
          "evalue": "ignored",
          "traceback": [
            "\u001b[0;31m---------------------------------------------------------------------------\u001b[0m",
            "\u001b[0;31mValueError\u001b[0m                                Traceback (most recent call last)",
            "\u001b[0;32m<ipython-input-170-f9378c454710>\u001b[0m in \u001b[0;36m<module>\u001b[0;34m\u001b[0m\n\u001b[1;32m      1\u001b[0m \u001b[0;31m#使用 pandas 中的 crosstab 能夠很方便的建立混淆矩陣。\u001b[0m\u001b[0;34m\u001b[0m\u001b[0;34m\u001b[0m\u001b[0;34m\u001b[0m\u001b[0m\n\u001b[0;32m----> 2\u001b[0;31m \u001b[0mpd\u001b[0m\u001b[0;34m.\u001b[0m\u001b[0mcrosstab\u001b[0m\u001b[0;34m(\u001b[0m\u001b[0my_test_label\u001b[0m\u001b[0;34m,\u001b[0m \u001b[0mprediction\u001b[0m\u001b[0;34m,\u001b[0m \u001b[0mrownames\u001b[0m \u001b[0;34m=\u001b[0m \u001b[0;34m[\u001b[0m\u001b[0;34m'label'\u001b[0m\u001b[0;34m]\u001b[0m\u001b[0;34m,\u001b[0m \u001b[0mcolnames\u001b[0m \u001b[0;34m=\u001b[0m \u001b[0;34m[\u001b[0m\u001b[0;34m'predict'\u001b[0m\u001b[0;34m]\u001b[0m\u001b[0;34m)\u001b[0m\u001b[0;34m\u001b[0m\u001b[0;34m\u001b[0m\u001b[0m\n\u001b[0m",
            "\u001b[0;32m/usr/local/lib/python3.8/dist-packages/pandas/core/reshape/pivot.py\u001b[0m in \u001b[0;36mcrosstab\u001b[0;34m(index, columns, values, rownames, colnames, aggfunc, margins, margins_name, dropna, normalize)\u001b[0m\n\u001b[1;32m    652\u001b[0m         \u001b[0;34m**\u001b[0m\u001b[0mdict\u001b[0m\u001b[0;34m(\u001b[0m\u001b[0mzip\u001b[0m\u001b[0;34m(\u001b[0m\u001b[0munique_colnames\u001b[0m\u001b[0;34m,\u001b[0m \u001b[0mcolumns\u001b[0m\u001b[0;34m)\u001b[0m\u001b[0;34m)\u001b[0m\u001b[0;34m,\u001b[0m\u001b[0;34m\u001b[0m\u001b[0;34m\u001b[0m\u001b[0m\n\u001b[1;32m    653\u001b[0m     }\n\u001b[0;32m--> 654\u001b[0;31m     \u001b[0mdf\u001b[0m \u001b[0;34m=\u001b[0m \u001b[0mDataFrame\u001b[0m\u001b[0;34m(\u001b[0m\u001b[0mdata\u001b[0m\u001b[0;34m,\u001b[0m \u001b[0mindex\u001b[0m\u001b[0;34m=\u001b[0m\u001b[0mcommon_idx\u001b[0m\u001b[0;34m)\u001b[0m\u001b[0;34m\u001b[0m\u001b[0;34m\u001b[0m\u001b[0m\n\u001b[0m\u001b[1;32m    655\u001b[0m \u001b[0;34m\u001b[0m\u001b[0m\n\u001b[1;32m    656\u001b[0m     \u001b[0;32mif\u001b[0m \u001b[0mvalues\u001b[0m \u001b[0;32mis\u001b[0m \u001b[0;32mNone\u001b[0m\u001b[0;34m:\u001b[0m\u001b[0;34m\u001b[0m\u001b[0;34m\u001b[0m\u001b[0m\n",
            "\u001b[0;32m/usr/local/lib/python3.8/dist-packages/pandas/core/frame.py\u001b[0m in \u001b[0;36m__init__\u001b[0;34m(self, data, index, columns, dtype, copy)\u001b[0m\n\u001b[1;32m    612\u001b[0m         \u001b[0;32melif\u001b[0m \u001b[0misinstance\u001b[0m\u001b[0;34m(\u001b[0m\u001b[0mdata\u001b[0m\u001b[0;34m,\u001b[0m \u001b[0mdict\u001b[0m\u001b[0;34m)\u001b[0m\u001b[0;34m:\u001b[0m\u001b[0;34m\u001b[0m\u001b[0;34m\u001b[0m\u001b[0m\n\u001b[1;32m    613\u001b[0m             \u001b[0;31m# GH#38939 de facto copy defaults to False only in non-dict cases\u001b[0m\u001b[0;34m\u001b[0m\u001b[0;34m\u001b[0m\u001b[0;34m\u001b[0m\u001b[0m\n\u001b[0;32m--> 614\u001b[0;31m             \u001b[0mmgr\u001b[0m \u001b[0;34m=\u001b[0m \u001b[0mdict_to_mgr\u001b[0m\u001b[0;34m(\u001b[0m\u001b[0mdata\u001b[0m\u001b[0;34m,\u001b[0m \u001b[0mindex\u001b[0m\u001b[0;34m,\u001b[0m \u001b[0mcolumns\u001b[0m\u001b[0;34m,\u001b[0m \u001b[0mdtype\u001b[0m\u001b[0;34m=\u001b[0m\u001b[0mdtype\u001b[0m\u001b[0;34m,\u001b[0m \u001b[0mcopy\u001b[0m\u001b[0;34m=\u001b[0m\u001b[0mcopy\u001b[0m\u001b[0;34m,\u001b[0m \u001b[0mtyp\u001b[0m\u001b[0;34m=\u001b[0m\u001b[0mmanager\u001b[0m\u001b[0;34m)\u001b[0m\u001b[0;34m\u001b[0m\u001b[0;34m\u001b[0m\u001b[0m\n\u001b[0m\u001b[1;32m    615\u001b[0m         \u001b[0;32melif\u001b[0m \u001b[0misinstance\u001b[0m\u001b[0;34m(\u001b[0m\u001b[0mdata\u001b[0m\u001b[0;34m,\u001b[0m \u001b[0mma\u001b[0m\u001b[0;34m.\u001b[0m\u001b[0mMaskedArray\u001b[0m\u001b[0;34m)\u001b[0m\u001b[0;34m:\u001b[0m\u001b[0;34m\u001b[0m\u001b[0;34m\u001b[0m\u001b[0m\n\u001b[1;32m    616\u001b[0m             \u001b[0;32mimport\u001b[0m \u001b[0mnumpy\u001b[0m\u001b[0;34m.\u001b[0m\u001b[0mma\u001b[0m\u001b[0;34m.\u001b[0m\u001b[0mmrecords\u001b[0m \u001b[0;32mas\u001b[0m \u001b[0mmrecords\u001b[0m\u001b[0;34m\u001b[0m\u001b[0;34m\u001b[0m\u001b[0m\n",
            "\u001b[0;32m/usr/local/lib/python3.8/dist-packages/pandas/core/internals/construction.py\u001b[0m in \u001b[0;36mdict_to_mgr\u001b[0;34m(data, index, columns, dtype, typ, copy)\u001b[0m\n\u001b[1;32m    462\u001b[0m         \u001b[0;31m# TODO: can we get rid of the dt64tz special case above?\u001b[0m\u001b[0;34m\u001b[0m\u001b[0;34m\u001b[0m\u001b[0;34m\u001b[0m\u001b[0m\n\u001b[1;32m    463\u001b[0m \u001b[0;34m\u001b[0m\u001b[0m\n\u001b[0;32m--> 464\u001b[0;31m     return arrays_to_mgr(\n\u001b[0m\u001b[1;32m    465\u001b[0m         \u001b[0marrays\u001b[0m\u001b[0;34m,\u001b[0m \u001b[0mdata_names\u001b[0m\u001b[0;34m,\u001b[0m \u001b[0mindex\u001b[0m\u001b[0;34m,\u001b[0m \u001b[0mcolumns\u001b[0m\u001b[0;34m,\u001b[0m \u001b[0mdtype\u001b[0m\u001b[0;34m=\u001b[0m\u001b[0mdtype\u001b[0m\u001b[0;34m,\u001b[0m \u001b[0mtyp\u001b[0m\u001b[0;34m=\u001b[0m\u001b[0mtyp\u001b[0m\u001b[0;34m,\u001b[0m \u001b[0mconsolidate\u001b[0m\u001b[0;34m=\u001b[0m\u001b[0mcopy\u001b[0m\u001b[0;34m\u001b[0m\u001b[0;34m\u001b[0m\u001b[0m\n\u001b[1;32m    466\u001b[0m     )\n",
            "\u001b[0;32m/usr/local/lib/python3.8/dist-packages/pandas/core/internals/construction.py\u001b[0m in \u001b[0;36marrays_to_mgr\u001b[0;34m(arrays, arr_names, index, columns, dtype, verify_integrity, typ, consolidate)\u001b[0m\n\u001b[1;32m    117\u001b[0m         \u001b[0;31m# figure out the index, if necessary\u001b[0m\u001b[0;34m\u001b[0m\u001b[0;34m\u001b[0m\u001b[0;34m\u001b[0m\u001b[0m\n\u001b[1;32m    118\u001b[0m         \u001b[0;32mif\u001b[0m \u001b[0mindex\u001b[0m \u001b[0;32mis\u001b[0m \u001b[0;32mNone\u001b[0m\u001b[0;34m:\u001b[0m\u001b[0;34m\u001b[0m\u001b[0;34m\u001b[0m\u001b[0m\n\u001b[0;32m--> 119\u001b[0;31m             \u001b[0mindex\u001b[0m \u001b[0;34m=\u001b[0m \u001b[0m_extract_index\u001b[0m\u001b[0;34m(\u001b[0m\u001b[0marrays\u001b[0m\u001b[0;34m)\u001b[0m\u001b[0;34m\u001b[0m\u001b[0;34m\u001b[0m\u001b[0m\n\u001b[0m\u001b[1;32m    120\u001b[0m         \u001b[0;32melse\u001b[0m\u001b[0;34m:\u001b[0m\u001b[0;34m\u001b[0m\u001b[0;34m\u001b[0m\u001b[0m\n\u001b[1;32m    121\u001b[0m             \u001b[0mindex\u001b[0m \u001b[0;34m=\u001b[0m \u001b[0mensure_index\u001b[0m\u001b[0;34m(\u001b[0m\u001b[0mindex\u001b[0m\u001b[0;34m)\u001b[0m\u001b[0;34m\u001b[0m\u001b[0;34m\u001b[0m\u001b[0m\n",
            "\u001b[0;32m/usr/local/lib/python3.8/dist-packages/pandas/core/internals/construction.py\u001b[0m in \u001b[0;36m_extract_index\u001b[0;34m(data)\u001b[0m\n\u001b[1;32m    633\u001b[0m             \u001b[0mlengths\u001b[0m \u001b[0;34m=\u001b[0m \u001b[0mlist\u001b[0m\u001b[0;34m(\u001b[0m\u001b[0mset\u001b[0m\u001b[0;34m(\u001b[0m\u001b[0mraw_lengths\u001b[0m\u001b[0;34m)\u001b[0m\u001b[0;34m)\u001b[0m\u001b[0;34m\u001b[0m\u001b[0;34m\u001b[0m\u001b[0m\n\u001b[1;32m    634\u001b[0m             \u001b[0;32mif\u001b[0m \u001b[0mlen\u001b[0m\u001b[0;34m(\u001b[0m\u001b[0mlengths\u001b[0m\u001b[0;34m)\u001b[0m \u001b[0;34m>\u001b[0m \u001b[0;36m1\u001b[0m\u001b[0;34m:\u001b[0m\u001b[0;34m\u001b[0m\u001b[0;34m\u001b[0m\u001b[0m\n\u001b[0;32m--> 635\u001b[0;31m                 \u001b[0;32mraise\u001b[0m \u001b[0mValueError\u001b[0m\u001b[0;34m(\u001b[0m\u001b[0;34m\"All arrays must be of the same length\"\u001b[0m\u001b[0;34m)\u001b[0m\u001b[0;34m\u001b[0m\u001b[0;34m\u001b[0m\u001b[0m\n\u001b[0m\u001b[1;32m    636\u001b[0m \u001b[0;34m\u001b[0m\u001b[0m\n\u001b[1;32m    637\u001b[0m             \u001b[0;32mif\u001b[0m \u001b[0mhave_dicts\u001b[0m\u001b[0;34m:\u001b[0m\u001b[0;34m\u001b[0m\u001b[0;34m\u001b[0m\u001b[0m\n",
            "\u001b[0;31mValueError\u001b[0m: All arrays must be of the same length"
          ]
        }
      ],
      "source": [
        "#使用 pandas 中的 crosstab 能夠很方便的建立混淆矩陣。\n",
        "pd.crosstab(y_test_label, prediction, rownames = ['label'], colnames = ['predict'])"
      ]
    }
  ],
  "metadata": {
    "accelerator": "GPU",
    "colab": {
      "provenance": []
    },
    "gpuClass": "standard",
    "kernelspec": {
      "display_name": "Python 3.7.9 ('py37_tensorflow')",
      "language": "python",
      "name": "python3"
    },
    "language_info": {
      "codemirror_mode": {
        "name": "ipython",
        "version": 3
      },
      "file_extension": ".py",
      "mimetype": "text/x-python",
      "name": "python",
      "nbconvert_exporter": "python",
      "pygments_lexer": "ipython3",
      "version": "3.7.9"
    },
    "vscode": {
      "interpreter": {
        "hash": "d194fa7cde35d0544ffd86d7eb28ea43b62c695d72f93f04bc49d19e1b400069"
      }
    }
  },
  "nbformat": 4,
  "nbformat_minor": 0
}